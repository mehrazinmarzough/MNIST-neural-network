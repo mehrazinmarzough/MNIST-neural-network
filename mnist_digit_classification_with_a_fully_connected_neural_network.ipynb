{
  "cells": [
    {
      "cell_type": "markdown",
      "metadata": {
        "id": "HSmvrCh8CqZq"
      },
      "source": [
        "This notebook presents an MNIST digit classifier built with a fully-connected neural network in TensorFlow and Keras."
      ]
    },
    {
      "cell_type": "markdown",
      "metadata": {
        "id": "Uzlnsvf1DGpk"
      },
      "source": [
        "## 1. Import Statements\n",
        "\n",
        "---\n",
        "\n"
      ]
    },
    {
      "cell_type": "markdown",
      "source": [],
      "metadata": {
        "id": "Dm8EUGnSgZhI"
      }
    },
    {
      "cell_type": "code",
      "execution_count": 369,
      "metadata": {
        "colab": {
          "base_uri": "https://localhost:8080/"
        },
        "id": "l8DhknOWDIc4",
        "outputId": "82f5df5f-cdda-4d9c-835d-651ee26ce2db"
      },
      "outputs": [
        {
          "output_type": "stream",
          "name": "stdout",
          "text": [
            "Colab only includes TensorFlow 2.x; %tensorflow_version has no effect.\n"
          ]
        }
      ],
      "source": [
        "import numpy as np\n",
        "import matplotlib.pyplot as plt\n",
        "from sklearn.model_selection import train_test_split\n",
        "\n",
        "%tensorflow_version 2.x\n",
        "import tensorflow as tf"
      ]
    },
    {
      "cell_type": "markdown",
      "metadata": {
        "id": "Yuvx7u4qDQ0p"
      },
      "source": [
        "## 2. Data Preprocessing\n",
        "\n",
        "---\n",
        "\n"
      ]
    },
    {
      "cell_type": "markdown",
      "metadata": {
        "id": "qI70NJ8SN4An"
      },
      "source": [
        "The first step is to preprocess our data. Here, we load the MNIST digit dataset from the Keras datasets library, split it into training and test sets, reshape the matrices, and encode the labels categorically."
      ]
    },
    {
      "cell_type": "code",
      "execution_count": 370,
      "metadata": {
        "id": "IsaUq1mDDVLT"
      },
      "outputs": [],
      "source": [
        "# Load the MNIST dataset.\n",
        "mnist = tf.keras.datasets.mnist\n",
        "train_data, test_data = mnist.load_data()"
      ]
    },
    {
      "cell_type": "code",
      "execution_count": 371,
      "metadata": {
        "colab": {
          "base_uri": "https://localhost:8080/"
        },
        "id": "nWuEpda6EBMN",
        "outputId": "e45aee03-3050-4157-83d0-25926217e2a6"
      },
      "outputs": [
        {
          "output_type": "stream",
          "name": "stdout",
          "text": [
            "(10000, 28, 28)\n",
            "(10000, 28, 28)\n",
            "(50000,)\n"
          ]
        }
      ],
      "source": [
        "# Divide the data into features and labels.\n",
        "train_images, train_labels = train_data\n",
        "train_images, validation_images , train_labels , validation_labels = train_test_split(train_images, train_labels, test_size= 10000, random_state=42)\n",
        "test_images, test_labels = test_data\n",
        "print(test_images.shape)\n",
        "print(validation_images.shape)\n",
        "print(train_labels.shape)"
      ]
    },
    {
      "cell_type": "code",
      "execution_count": 372,
      "metadata": {
        "id": "wrAabZnyDinP"
      },
      "outputs": [],
      "source": [
        "# Reshape and normalize the images.\n",
        "X_train = train_images.reshape((50000, 784))\n",
        "X_train = X_train.astype('float32') / 255\n",
        "X_validation = validation_images.reshape((10000, 784))\n",
        "X_validation = X_validation.astype('float32') / 255\n",
        "X_test = test_images.reshape((10000, 784))\n",
        "X_test = X_test.astype('float32') / 255"
      ]
    },
    {
      "cell_type": "code",
      "execution_count": 373,
      "metadata": {
        "colab": {
          "base_uri": "https://localhost:8080/"
        },
        "id": "iHUWJlyBE1P0",
        "outputId": "237a2c02-5315-4070-e05d-41c3b929e044"
      },
      "outputs": [
        {
          "output_type": "stream",
          "name": "stdout",
          "text": [
            "(50000, 10)\n"
          ]
        }
      ],
      "source": [
        "# Reshape the labels and encode them categorically.\n",
        "y_train = tf.keras.utils.to_categorical(train_labels)\n",
        "y_validation = tf.keras.utils.to_categorical(validation_labels)\n",
        "y_test = tf.keras.utils.to_categorical(test_labels)\n",
        "print(y_train.shape)"
      ]
    },
    {
      "cell_type": "markdown",
      "metadata": {
        "id": "FVEOuuLPOJVH"
      },
      "source": [
        "Further, the following are the shapes of each matrix, as well as a visualization of a random MNIST digit."
      ]
    },
    {
      "cell_type": "code",
      "execution_count": 374,
      "metadata": {
        "colab": {
          "base_uri": "https://localhost:8080/"
        },
        "id": "9PpPi0qpNI_L",
        "outputId": "1e592746-53aa-48c0-b234-d72b83027a6c"
      },
      "outputs": [
        {
          "output_type": "stream",
          "name": "stdout",
          "text": [
            "Training Images: (50000, 784)\n",
            "Validation Images: (10000, 784)\n",
            "Testing Images: (10000, 784)\n",
            "Training Labels: (50000, 10)\n",
            "Validation Labels: (10000, 10)\n",
            "Test Labels: (10000, 10)\n"
          ]
        }
      ],
      "source": [
        "# Show the shapes of the data.\n",
        "print(\"Training Images:\", X_train.shape)\n",
        "print(\"Validation Images:\", X_validation.shape)\n",
        "print(\"Testing Images:\", X_test.shape)\n",
        "print(\"Training Labels:\", y_train.shape)\n",
        "print(\"Validation Labels:\", y_validation.shape)\n",
        "print(\"Test Labels:\", y_test.shape)"
      ]
    },
    {
      "cell_type": "code",
      "execution_count": 375,
      "metadata": {
        "colab": {
          "base_uri": "https://localhost:8080/",
          "height": 430
        },
        "id": "mSKjBaeNNc1m",
        "outputId": "186074f7-07f0-4814-f011-a66967580336"
      },
      "outputs": [
        {
          "output_type": "display_data",
          "data": {
            "text/plain": [
              "<Figure size 640x480 with 1 Axes>"
            ],
            "image/png": "[encoded data removed]"
          },
          "metadata": {}
        }
      ],
      "source": [
        "# Show a sample MNIST digit.\n",
        "plt.imshow(train_images[10])\n",
        "plt.show()"
      ]
    },
    {
      "cell_type": "markdown",
      "metadata": {
        "id": "J5ubfhUsFLR8"
      },
      "source": [
        "## 3. Neural Network\n",
        "\n",
        "---\n",
        "\n"
      ]
    },
    {
      "cell_type": "markdown",
      "metadata": {
        "id": "-gPoq2dRFtrH"
      },
      "source": [
        "### 3.1. Define the Model"
      ]
    },
    {
      "cell_type": "markdown",
      "metadata": {
        "id": "jU5sDVjhOVgF"
      },
      "source": [
        "We then have to define our neural network. Here, we define a sequential model with two fully-connected layers."
      ]
    },
    {
      "cell_type": "code",
      "execution_count": 376,
      "metadata": {
        "id": "Ri1rSpp3FSDS"
      },
      "outputs": [],
      "source": [
        "# Define the sequential model.\n",
        "model = tf.keras.models.Sequential()"
      ]
    },
    {
      "cell_type": "code",
      "execution_count": 377,
      "metadata": {
        "id": "5CNJ9gHWFWQv"
      },
      "outputs": [],
      "source": [
        "# Add two fully-connected layers to the network\n",
        "model.add(tf.keras.layers.Dense(1024, activation='relu', input_shape=(28 * 28,)))\n",
        "model.add(tf.keras.layers.Dropout(0.4))\n",
        "# model.add(tf.keras.layers.BatchNormalization())\n",
        "model.add(tf.keras.layers.Dense(10, activation='softmax'))"
      ]
    },
    {
      "cell_type": "code",
      "execution_count": 378,
      "metadata": {
        "colab": {
          "base_uri": "https://localhost:8080/"
        },
        "id": "cdMaLgtqFeV6",
        "outputId": "c92920b6-b525-454b-ad95-300a797e89f1"
      },
      "outputs": [
        {
          "output_type": "stream",
          "name": "stdout",
          "text": [
            "Model: \"sequential_18\"\n",
            "_________________________________________________________________\n",
            " Layer (type)                Output Shape              Param #   \n",
            "=================================================================\n",
            " dense_39 (Dense)            (None, 1024)              803840    \n",
            "                                                                 \n",
            " dropout_8 (Dropout)         (None, 1024)              0         \n",
            "                                                                 \n",
            " dense_40 (Dense)            (None, 10)                10250     \n",
            "                                                                 \n",
            "=================================================================\n",
            "Total params: 814090 (3.11 MB)\n",
            "Trainable params: 814090 (3.11 MB)\n",
            "Non-trainable params: 0 (0.00 Byte)\n",
            "_________________________________________________________________\n"
          ]
        }
      ],
      "source": [
        "# Show the model.\n",
        "model.summary()"
      ]
    },
    {
      "cell_type": "markdown",
      "metadata": {
        "id": "GYactRmuOhCW"
      },
      "source": [
        "Once our model is defined, we can compile it using the Adam optimizer and the categorical cross-entropy loss function."
      ]
    },
    {
      "cell_type": "code",
      "execution_count": 379,
      "metadata": {
        "id": "57j-R0L4Fmmf"
      },
      "outputs": [],
      "source": [
        "# # Compile the model.\n",
        "optimizer = tf.keras.optimizers.Adam(learning_rate=0.001)\n",
        "model.compile(optimizer=optimizer, loss='categorical_crossentropy', metrics=['accuracy'])"
      ]
    },
    {
      "cell_type": "markdown",
      "metadata": {
        "id": "hRVabAG8F3IL"
      },
      "source": [
        "### 3.2. Train the Model"
      ]
    },
    {
      "cell_type": "markdown",
      "metadata": {
        "id": "0IuRzsr2Osga"
      },
      "source": [
        "We then train the model on 10 epochs, using a batch size of 256."
      ]
    },
    {
      "cell_type": "code",
      "execution_count": 380,
      "metadata": {
        "colab": {
          "base_uri": "https://localhost:8080/"
        },
        "id": "Yl1f9mvZF5Pc",
        "outputId": "137559a0-a938-4647-a1fe-b1879d512c7b"
      },
      "outputs": [
        {
          "output_type": "stream",
          "name": "stdout",
          "text": [
            "Epoch 1/10\n",
            "196/196 [==============================] - 9s 40ms/step - loss: 0.3454 - accuracy: 0.8993 - val_loss: 0.1648 - val_accuracy: 0.9530\n",
            "Epoch 2/10\n",
            "196/196 [==============================] - 6s 32ms/step - loss: 0.1523 - accuracy: 0.9562 - val_loss: 0.1131 - val_accuracy: 0.9659\n",
            "Epoch 3/10\n",
            "196/196 [==============================] - 9s 46ms/step - loss: 0.1069 - accuracy: 0.9693 - val_loss: 0.0936 - val_accuracy: 0.9728\n",
            "Epoch 4/10\n",
            "196/196 [==============================] - 6s 31ms/step - loss: 0.0826 - accuracy: 0.9761 - val_loss: 0.0765 - val_accuracy: 0.9764\n",
            "Epoch 5/10\n",
            "196/196 [==============================] - 7s 38ms/step - loss: 0.0674 - accuracy: 0.9799 - val_loss: 0.0773 - val_accuracy: 0.9762\n",
            "Epoch 6/10\n",
            "196/196 [==============================] - 6s 31ms/step - loss: 0.0557 - accuracy: 0.9833 - val_loss: 0.0685 - val_accuracy: 0.9790\n",
            "Epoch 7/10\n",
            "196/196 [==============================] - 7s 38ms/step - loss: 0.0467 - accuracy: 0.9857 - val_loss: 0.0631 - val_accuracy: 0.9799\n",
            "Epoch 8/10\n",
            "196/196 [==============================] - 6s 32ms/step - loss: 0.0409 - accuracy: 0.9879 - val_loss: 0.0620 - val_accuracy: 0.9806\n",
            "Epoch 9/10\n",
            "196/196 [==============================] - 7s 38ms/step - loss: 0.0341 - accuracy: 0.9898 - val_loss: 0.0612 - val_accuracy: 0.9813\n",
            "Epoch 10/10\n",
            "196/196 [==============================] - 6s 32ms/step - loss: 0.0305 - accuracy: 0.9909 - val_loss: 0.0586 - val_accuracy: 0.9817\n"
          ]
        }
      ],
      "source": [
        "# Define the parameters.\n",
        "num_epochs = 10\n",
        "batch_size = 256\n",
        "\n",
        "# Train the model.\n",
        "history = model.fit(X_train,\n",
        "                      y_train,\n",
        "                      epochs=num_epochs,\n",
        "                      batch_size=batch_size,\n",
        "                      validation_data=(X_validation, y_validation))"
      ]
    },
    {
      "cell_type": "markdown",
      "metadata": {
        "id": "WhyG0-sPHOAv"
      },
      "source": [
        "### 3.3. Display the Metrics"
      ]
    },
    {
      "cell_type": "markdown",
      "metadata": {
        "id": "1TFadfX_Oyg_"
      },
      "source": [
        "Finally, we display the metrics. We begin by displaying the model's accuracy and loss based on the test set."
      ]
    },
    {
      "cell_type": "code",
      "execution_count": 381,
      "metadata": {
        "colab": {
          "base_uri": "https://localhost:8080/"
        },
        "id": "vFoIAPdSYXqh",
        "outputId": "bad800a7-e621-451a-e7a4-bf0157149b91"
      },
      "outputs": [
        {
          "output_type": "stream",
          "name": "stdout",
          "text": [
            "313/313 [==============================] - 1s 4ms/step - loss: 0.0570 - accuracy: 0.9817\n",
            "Test Accuracy: 0.9817000031471252\n",
            "Test Loss: 0.05697740614414215\n",
            "313/313 [==============================] - 2s 7ms/step - loss: 0.0586 - accuracy: 0.9817\n",
            "Validation Accuracy: 0.9817000031471252\n",
            "Validation Loss: 0.05857020244002342\n",
            "1563/1563 [==============================] - 6s 4ms/step - loss: 0.0147 - accuracy: 0.9966\n",
            "Train Accuracy: 0.9965599775314331\n",
            "Train Loss: 0.01473208237439394\n"
          ]
        }
      ],
      "source": [
        "test_loss, test_accuracy = model.evaluate(X_test, y_test)\n",
        "print('Test Accuracy:', test_accuracy)\n",
        "print('Test Loss:', test_loss)\n",
        "\n",
        "val_loss, val_accuracy = model.evaluate(X_validation, y_validation)\n",
        "print('Validation Accuracy:', val_accuracy)\n",
        "print('Validation Loss:', val_loss)\n",
        "\n",
        "val_loss, val_accuracy = model.evaluate(X_train, y_train)\n",
        "print('Train Accuracy:', val_accuracy)\n",
        "print('Train Loss:', val_loss)"
      ]
    },
    {
      "cell_type": "markdown",
      "metadata": {
        "id": "k3p2c0-RO2M8"
      },
      "source": [
        "Then, we save the metric values for each epoch to plot the loss and accuracy curves for our model."
      ]
    },
    {
      "cell_type": "code",
      "execution_count": 382,
      "metadata": {
        "id": "8-OdhC_0KtUx"
      },
      "outputs": [],
      "source": [
        "# Save the metrics.\n",
        "metrics = history.history"
      ]
    },
    {
      "cell_type": "markdown",
      "metadata": {
        "id": "ZztnSHgjZPDN"
      },
      "source": [
        "Finally, once we have our metric history, we can plot the curves."
      ]
    },
    {
      "cell_type": "code",
      "execution_count": 383,
      "metadata": {
        "id": "yfosMMiqHQB0"
      },
      "outputs": [],
      "source": [
        "# Save the loss values.\n",
        "training_loss_list = metrics['loss']\n",
        "val_loss_list = metrics['val_loss']"
      ]
    },
    {
      "cell_type": "code",
      "execution_count": 384,
      "metadata": {
        "colab": {
          "base_uri": "https://localhost:8080/",
          "height": 472
        },
        "id": "HKAZlyOmHV6f",
        "outputId": "0fe5259b-e36d-4c47-b40a-67628852df8c"
      },
      "outputs": [
        {
          "output_type": "display_data",
          "data": {
            "text/plain": [
              "<Figure size 640x480 with 1 Axes>"
            ],
            "image/png": "[encoded data removed]"
          },
          "metadata": {}
        }
      ],
      "source": [
        "# Plot the training and test loss.\n",
        "x = np.arange(0, num_epochs, 1)\n",
        "plt.title('Training and Validation Loss')\n",
        "plt.xlabel('Epoch')\n",
        "plt.ylabel('Loss')\n",
        "plt.plot(x, training_loss_list, label='Training Loss')\n",
        "plt.plot(x, val_loss_list, label='Validation Loss')\n",
        "plt.legend()\n",
        "plt.show()"
      ]
    },
    {
      "cell_type": "code",
      "execution_count": 385,
      "metadata": {
        "id": "RwzIUzuuI0ZP"
      },
      "outputs": [],
      "source": [
        "train_accuracy_list = metrics['accuracy']\n",
        "val_accuracy_list = metrics['val_accuracy']"
      ]
    },
    {
      "cell_type": "code",
      "execution_count": 386,
      "metadata": {
        "id": "kHj-j2HpI2Lb",
        "colab": {
          "base_uri": "https://localhost:8080/",
          "height": 472
        },
        "outputId": "7dc10072-c54c-4a98-8bcf-7a9a5ec4fbcb"
      },
      "outputs": [
        {
          "output_type": "display_data",
          "data": {
            "text/plain": [
              "<Figure size 640x480 with 1 Axes>"
            ],
            "image/png": "[encoded data removed]"
          },
          "metadata": {}
        }
      ],
      "source": [
        "plt.title('Training and Test Accuracy')\n",
        "plt.xlabel('Epoch')\n",
        "plt.ylabel('Accuracy')\n",
        "plt.plot(x, train_accuracy_list, label='Training Accuracy')\n",
        "plt.plot(x, val_accuracy_list, label='Validation Accuracy')\n",
        "plt.legend()\n",
        "plt.show()"
      ]
    },
    {
      "cell_type": "markdown",
      "metadata": {
        "id": "x2BDwaUigDgC"
      },
      "source": [
        "## 4. Make a Prediction\n",
        "\n",
        "---\n",
        "\n"
      ]
    },
    {
      "cell_type": "markdown",
      "metadata": {
        "id": "vx34e_AWgLeE"
      },
      "source": [
        "Once our model is trained, we can use it to make predictions. To do this, we first use our test set to predict the classes."
      ]
    },
    {
      "cell_type": "code",
      "execution_count": 387,
      "metadata": {
        "colab": {
          "base_uri": "https://localhost:8080/"
        },
        "id": "SylCmq61gTnM",
        "outputId": "077cb1b4-164e-4079-a391-ea1e229ba34d"
      },
      "outputs": [
        {
          "output_type": "stream",
          "name": "stdout",
          "text": [
            "313/313 [==============================] - 1s 4ms/step\n"
          ]
        }
      ],
      "source": [
        "# Make predictions with the trained model.\n",
        "predictions = model.predict(X_test)"
      ]
    },
    {
      "cell_type": "markdown",
      "metadata": {
        "id": "uMo9sEZpggPq"
      },
      "source": [
        "Finally, we can show a random test image with its corresponding prediction."
      ]
    },
    {
      "cell_type": "code",
      "execution_count": 388,
      "metadata": {
        "colab": {
          "base_uri": "https://localhost:8080/",
          "height": 430
        },
        "id": "Gc6bx2stgfiY",
        "outputId": "076b4f20-4db1-4643-ffde-a4deee4d7d18"
      },
      "outputs": [
        {
          "output_type": "display_data",
          "data": {
            "text/plain": [
              "<Figure size 640x480 with 1 Axes>"
            ],
            "image/png": "[encoded data removed]"
          },
          "metadata": {}
        }
      ],
      "source": [
        "# Choose an index.\n",
        "index = 40\n",
        "\n",
        "# Show an image from the test set.\n",
        "plt.imshow(test_images[index])\n",
        "plt.show()"
      ]
    },
    {
      "cell_type": "code",
      "execution_count": 389,
      "metadata": {
        "id": "5bmSdfcFgunA",
        "colab": {
          "base_uri": "https://localhost:8080/"
        },
        "outputId": "537c7ff3-0307-4c7a-eb71-cbf9e2a42cb5"
      },
      "outputs": [
        {
          "output_type": "stream",
          "name": "stdout",
          "text": [
            "Prediction: 1\n"
          ]
        }
      ],
      "source": [
        "print(\"Prediction:\", np.argmax(predictions[index]))"
      ]
    }
  ],
  "metadata": {
    "colab": {
      "provenance": []
    },
    "kernelspec": {
      "display_name": "Python 3",
      "name": "python3"
    }
  },
  "nbformat": 4,
  "nbformat_minor": 0
}